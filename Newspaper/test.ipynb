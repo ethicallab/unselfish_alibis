{
 "cells": [
  {
   "cell_type": "code",
   "execution_count": 5,
   "metadata": {},
   "outputs": [
    {
     "name": "stdout",
     "output_type": "stream",
     "text": [
      "<Response [426]>\n"
     ]
    }
   ],
   "source": [
    "import requests\n",
    "\n",
    "url = ('https://newsapi.org/v2/everything?' + \n",
    "       'q=Tesla&' +\n",
    "       'from=2021-07-16&' +\n",
    "       'sortBy=popularity&' +\n",
    "       'apiKey=f412a23579584b8ab98de1674633acc6')\n",
    "\n",
    "response = requests.get(url)\n",
    "\n",
    "print(response)"
   ]
  },
  {
   "cell_type": "code",
   "execution_count": 6,
   "metadata": {},
   "outputs": [
    {
     "data": {
      "text/plain": [
       "b'{\"status\":\"error\",\"code\":\"parameterInvalid\",\"message\":\"You are trying to request results too far in the past. Your plan permits you to request articles as far back as 2024-06-15, but you have requested 2021-07-16. You may need to upgrade to a paid plan.\"}'"
      ]
     },
     "execution_count": 6,
     "metadata": {},
     "output_type": "execute_result"
    }
   ],
   "source": [
    "response.content"
   ]
  },
  {
   "cell_type": "code",
   "execution_count": null,
   "metadata": {},
   "outputs": [],
   "source": []
  }
 ],
 "metadata": {
  "kernelspec": {
   "display_name": "Python 3",
   "language": "python",
   "name": "python3"
  },
  "language_info": {
   "codemirror_mode": {
    "name": "ipython",
    "version": 3
   },
   "file_extension": ".py",
   "mimetype": "text/x-python",
   "name": "python",
   "nbconvert_exporter": "python",
   "pygments_lexer": "ipython3",
   "version": "3.9.6"
  }
 },
 "nbformat": 4,
 "nbformat_minor": 2
}
