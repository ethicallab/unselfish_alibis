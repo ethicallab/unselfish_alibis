{
 "cells": [
  {
   "cell_type": "code",
   "execution_count": 51,
   "metadata": {},
   "outputs": [],
   "source": [
    "import requests\n",
    "import pandas as pd"
   ]
  },
  {
   "cell_type": "code",
   "execution_count": 70,
   "metadata": {},
   "outputs": [],
   "source": [
    "keywords = ['tesla chill mode', 'tesla assertive mode', 'tesla average mode', 'tesla assertive full self-driving', 'tesla ass']\n",
    "api_url = 'https://api.hasdata.com/scrape/google'"
   ]
  },
  {
   "cell_type": "code",
   "execution_count": 71,
   "metadata": {},
   "outputs": [],
   "source": [
    "headers = {'x-api-key': 'd41eaa46-f51b-4657-8f16-ad779b81872a'}\n",
    "\n",
    "params = {\n",
    "    'q': keyword,\n",
    "    'domain': 'google.com',\n",
    "    'tbm': 'nws',\n",
    "    'tbs': \"dr:1,cd_min:01/01/2022,cd_max:7/15/2024\",\n",
    "    \"num\" : 100\n",
    "}"
   ]
  },
  {
   "cell_type": "code",
   "execution_count": 72,
   "metadata": {},
   "outputs": [],
   "source": [
    "response = requests.get(api_url, params=params, headers=headers)\n",
    "data = response.json()"
   ]
  },
  {
   "cell_type": "code",
   "execution_count": 73,
   "metadata": {},
   "outputs": [
    {
     "data": {
      "text/plain": [
       "36"
      ]
     },
     "execution_count": 73,
     "metadata": {},
     "output_type": "execute_result"
    }
   ],
   "source": [
    "len(data[\"newsResults\"])"
   ]
  },
  {
   "cell_type": "code",
   "execution_count": 74,
   "metadata": {},
   "outputs": [],
   "source": [
    "def extract_article_info(news_results):\n",
    "\n",
    "    position = [a[\"position\"] for a in news_results]\n",
    "    title = [a[\"title\"] for a in news_results]\n",
    "    link = [a[\"link\"] for a in news_results]\n",
    "    source = [a[\"source\"] for a in news_results]\n",
    "    snippet = [a[\"snippet\"] for a in news_results]\n",
    "\n",
    "    return position, title, link, source, snippet"
   ]
  },
  {
   "cell_type": "code",
   "execution_count": 75,
   "metadata": {},
   "outputs": [],
   "source": [
    "results = extract_article_info(data[\"newsResults\"])"
   ]
  },
  {
   "cell_type": "code",
   "execution_count": 76,
   "metadata": {},
   "outputs": [],
   "source": [
    "df4 = pd.DataFrame({\"title\": results[1], \"link\": results[2], \"source\": results[3], \"snippet\": results[4]})"
   ]
  },
  {
   "cell_type": "code",
   "execution_count": 77,
   "metadata": {},
   "outputs": [
    {
     "data": {
      "text/html": [
       "<div>\n",
       "<style scoped>\n",
       "    .dataframe tbody tr th:only-of-type {\n",
       "        vertical-align: middle;\n",
       "    }\n",
       "\n",
       "    .dataframe tbody tr th {\n",
       "        vertical-align: top;\n",
       "    }\n",
       "\n",
       "    .dataframe thead th {\n",
       "        text-align: right;\n",
       "    }\n",
       "</style>\n",
       "<table border=\"1\" class=\"dataframe\">\n",
       "  <thead>\n",
       "    <tr style=\"text-align: right;\">\n",
       "      <th></th>\n",
       "      <th>title</th>\n",
       "      <th>link</th>\n",
       "      <th>source</th>\n",
       "      <th>snippet</th>\n",
       "    </tr>\n",
       "  </thead>\n",
       "  <tbody>\n",
       "    <tr>\n",
       "      <th>0</th>\n",
       "      <td>Tesla Update Introduces Chill Mode To Reign In...</td>\n",
       "      <td>https://www.autospies.com/news/index.aspx?subm...</td>\n",
       "      <td>AutoSpies.com</td>\n",
       "      <td>Tesla consistently improves its vehicles via o...</td>\n",
       "    </tr>\n",
       "    <tr>\n",
       "      <th>1</th>\n",
       "      <td>Tesla Driver Asks For Relaxed FSD Mode, So Elo...</td>\n",
       "      <td>https://insideevs.com/news/721792/tesla-fsd-ag...</td>\n",
       "      <td>InsideEVs</td>\n",
       "      <td>Even though some Tesla Full Self-Drive users w...</td>\n",
       "    </tr>\n",
       "    <tr>\n",
       "      <th>2</th>\n",
       "      <td>Tesla’s Full Self-Driving to get new driving m...</td>\n",
       "      <td>https://www.teslarati.com/elon-musk-tesla-fsd-...</td>\n",
       "      <td>Teslarati</td>\n",
       "      <td>Tesla's Full Self-Driving (FSD) is set to get ...</td>\n",
       "    </tr>\n",
       "    <tr>\n",
       "      <th>3</th>\n",
       "      <td>Tesla lowers range estimates as U.S. regulator...</td>\n",
       "      <td>https://www.reuters.com/business/autos-transpo...</td>\n",
       "      <td>Reuters</td>\n",
       "      <td>Tesla has lowered driving-range estimates acro...</td>\n",
       "    </tr>\n",
       "    <tr>\n",
       "      <th>4</th>\n",
       "      <td>Does chill mode improve range? | Page 2</td>\n",
       "      <td>https://teslamotorsclub.com/tmc/threads/does-c...</td>\n",
       "      <td>Tesla Motors Club</td>\n",
       "      <td>Mr Gumble ... I've used chill mode for the pas...</td>\n",
       "    </tr>\n",
       "  </tbody>\n",
       "</table>\n",
       "</div>"
      ],
      "text/plain": [
       "                                               title  \\\n",
       "0  Tesla Update Introduces Chill Mode To Reign In...   \n",
       "1  Tesla Driver Asks For Relaxed FSD Mode, So Elo...   \n",
       "2  Tesla’s Full Self-Driving to get new driving m...   \n",
       "3  Tesla lowers range estimates as U.S. regulator...   \n",
       "4            Does chill mode improve range? | Page 2   \n",
       "\n",
       "                                                link             source  \\\n",
       "0  https://www.autospies.com/news/index.aspx?subm...      AutoSpies.com   \n",
       "1  https://insideevs.com/news/721792/tesla-fsd-ag...          InsideEVs   \n",
       "2  https://www.teslarati.com/elon-musk-tesla-fsd-...          Teslarati   \n",
       "3  https://www.reuters.com/business/autos-transpo...            Reuters   \n",
       "4  https://teslamotorsclub.com/tmc/threads/does-c...  Tesla Motors Club   \n",
       "\n",
       "                                             snippet  \n",
       "0  Tesla consistently improves its vehicles via o...  \n",
       "1  Even though some Tesla Full Self-Drive users w...  \n",
       "2  Tesla's Full Self-Driving (FSD) is set to get ...  \n",
       "3  Tesla has lowered driving-range estimates acro...  \n",
       "4  Mr Gumble ... I've used chill mode for the pas...  "
      ]
     },
     "execution_count": 77,
     "metadata": {},
     "output_type": "execute_result"
    }
   ],
   "source": [
    "df4.head()"
   ]
  },
  {
   "cell_type": "code",
   "execution_count": 78,
   "metadata": {},
   "outputs": [],
   "source": [
    "df = pd.concat([df, df4])"
   ]
  },
  {
   "cell_type": "code",
   "execution_count": 61,
   "metadata": {},
   "outputs": [
    {
     "name": "stdout",
     "output_type": "stream",
     "text": [
      "<class 'pandas.core.frame.DataFrame'>\n",
      "Index: 68 entries, 0 to 30\n",
      "Data columns (total 4 columns):\n",
      " #   Column   Non-Null Count  Dtype \n",
      "---  ------   --------------  ----- \n",
      " 0   title    68 non-null     object\n",
      " 1   link     68 non-null     object\n",
      " 2   source   68 non-null     object\n",
      " 3   snippet  68 non-null     object\n",
      "dtypes: object(4)\n",
      "memory usage: 2.7+ KB\n"
     ]
    }
   ],
   "source": [
    "df.drop_duplicates().info()"
   ]
  },
  {
   "cell_type": "code",
   "execution_count": 62,
   "metadata": {},
   "outputs": [
    {
     "data": {
      "text/html": [
       "<div>\n",
       "<style scoped>\n",
       "    .dataframe tbody tr th:only-of-type {\n",
       "        vertical-align: middle;\n",
       "    }\n",
       "\n",
       "    .dataframe tbody tr th {\n",
       "        vertical-align: top;\n",
       "    }\n",
       "\n",
       "    .dataframe thead th {\n",
       "        text-align: right;\n",
       "    }\n",
       "</style>\n",
       "<table border=\"1\" class=\"dataframe\">\n",
       "  <thead>\n",
       "    <tr style=\"text-align: right;\">\n",
       "      <th></th>\n",
       "      <th>title</th>\n",
       "      <th>link</th>\n",
       "      <th>source</th>\n",
       "      <th>snippet</th>\n",
       "    </tr>\n",
       "  </thead>\n",
       "  <tbody>\n",
       "    <tr>\n",
       "      <th>0</th>\n",
       "      <td>Tesla’s Full Self-Driving to get new driving m...</td>\n",
       "      <td>https://www.teslarati.com/elon-musk-tesla-fsd-...</td>\n",
       "      <td>Teslarati</td>\n",
       "      <td>Tesla's Full Self-Driving (FSD) is set to get ...</td>\n",
       "    </tr>\n",
       "    <tr>\n",
       "      <th>1</th>\n",
       "      <td>Tesla FSD Beta 12.1.2 Debuts ‘Automatic Set Sp...</td>\n",
       "      <td>https://teslanorth.com/2024/01/23/tesla-fsd-be...</td>\n",
       "      <td>Tesla North</td>\n",
       "      <td>Tesla's latest update to its Full Self-Driving...</td>\n",
       "    </tr>\n",
       "    <tr>\n",
       "      <th>2</th>\n",
       "      <td>Tesla adds chill and assertive self-driving modes</td>\n",
       "      <td>https://www.bbc.com/news/technology-59939536</td>\n",
       "      <td>BBC</td>\n",
       "      <td>An update to Tesla cars adds a mode to follow ...</td>\n",
       "    </tr>\n",
       "    <tr>\n",
       "      <th>3</th>\n",
       "      <td>Tesla’s ‘Full Self-Driving’ beta has an ‘asser...</td>\n",
       "      <td>https://www.theverge.com/2022/1/9/22875382/tes...</td>\n",
       "      <td>The Verge</td>\n",
       "      <td>The version 10.3 update to Tesla's controversi...</td>\n",
       "    </tr>\n",
       "    <tr>\n",
       "      <th>4</th>\n",
       "      <td>Tesla adds new feature with FSD Beta v12 for m...</td>\n",
       "      <td>https://www.teslarati.com/tesla-automatic-set-...</td>\n",
       "      <td>Teslarati</td>\n",
       "      <td>Tesla has added a new feature with the Full Se...</td>\n",
       "    </tr>\n",
       "  </tbody>\n",
       "</table>\n",
       "</div>"
      ],
      "text/plain": [
       "                                               title  \\\n",
       "0  Tesla’s Full Self-Driving to get new driving m...   \n",
       "1  Tesla FSD Beta 12.1.2 Debuts ‘Automatic Set Sp...   \n",
       "2  Tesla adds chill and assertive self-driving modes   \n",
       "3  Tesla’s ‘Full Self-Driving’ beta has an ‘asser...   \n",
       "4  Tesla adds new feature with FSD Beta v12 for m...   \n",
       "\n",
       "                                                link       source  \\\n",
       "0  https://www.teslarati.com/elon-musk-tesla-fsd-...    Teslarati   \n",
       "1  https://teslanorth.com/2024/01/23/tesla-fsd-be...  Tesla North   \n",
       "2       https://www.bbc.com/news/technology-59939536          BBC   \n",
       "3  https://www.theverge.com/2022/1/9/22875382/tes...    The Verge   \n",
       "4  https://www.teslarati.com/tesla-automatic-set-...    Teslarati   \n",
       "\n",
       "                                             snippet  \n",
       "0  Tesla's Full Self-Driving (FSD) is set to get ...  \n",
       "1  Tesla's latest update to its Full Self-Driving...  \n",
       "2  An update to Tesla cars adds a mode to follow ...  \n",
       "3  The version 10.3 update to Tesla's controversi...  \n",
       "4  Tesla has added a new feature with the Full Se...  "
      ]
     },
     "execution_count": 62,
     "metadata": {},
     "output_type": "execute_result"
    }
   ],
   "source": [
    "df.head()"
   ]
  },
  {
   "cell_type": "code",
   "execution_count": 69,
   "metadata": {},
   "outputs": [],
   "source": [
    "df.drop([\"snippet\"], axis = 1).drop_duplicates().sort_values(by = [\"source\"]).to_csv(\"news_article.csv\")"
   ]
  },
  {
   "cell_type": "code",
   "execution_count": 67,
   "metadata": {},
   "outputs": [
    {
     "data": {
      "text/html": [
       "<div>\n",
       "<style scoped>\n",
       "    .dataframe tbody tr th:only-of-type {\n",
       "        vertical-align: middle;\n",
       "    }\n",
       "\n",
       "    .dataframe tbody tr th {\n",
       "        vertical-align: top;\n",
       "    }\n",
       "\n",
       "    .dataframe thead th {\n",
       "        text-align: right;\n",
       "    }\n",
       "</style>\n",
       "<table border=\"1\" class=\"dataframe\">\n",
       "  <thead>\n",
       "    <tr style=\"text-align: right;\">\n",
       "      <th></th>\n",
       "      <th>link</th>\n",
       "      <th>source</th>\n",
       "    </tr>\n",
       "  </thead>\n",
       "  <tbody>\n",
       "    <tr>\n",
       "      <th>0</th>\n",
       "      <td>https://www.teslarati.com/elon-musk-tesla-fsd-...</td>\n",
       "      <td>Teslarati</td>\n",
       "    </tr>\n",
       "    <tr>\n",
       "      <th>1</th>\n",
       "      <td>https://teslanorth.com/2024/01/23/tesla-fsd-be...</td>\n",
       "      <td>Tesla North</td>\n",
       "    </tr>\n",
       "    <tr>\n",
       "      <th>2</th>\n",
       "      <td>https://www.bbc.com/news/technology-59939536</td>\n",
       "      <td>BBC</td>\n",
       "    </tr>\n",
       "    <tr>\n",
       "      <th>3</th>\n",
       "      <td>https://www.theverge.com/2022/1/9/22875382/tes...</td>\n",
       "      <td>The Verge</td>\n",
       "    </tr>\n",
       "    <tr>\n",
       "      <th>4</th>\n",
       "      <td>https://www.teslarati.com/tesla-automatic-set-...</td>\n",
       "      <td>Teslarati</td>\n",
       "    </tr>\n",
       "    <tr>\n",
       "      <th>...</th>\n",
       "      <td>...</td>\n",
       "      <td>...</td>\n",
       "    </tr>\n",
       "    <tr>\n",
       "      <th>21</th>\n",
       "      <td>https://www.thedrive.com/news/44104/tesla-reca...</td>\n",
       "      <td>The Drive</td>\n",
       "    </tr>\n",
       "    <tr>\n",
       "      <th>22</th>\n",
       "      <td>https://www.kbb.com/car-news/tesla-ups-price-o...</td>\n",
       "      <td>KBB</td>\n",
       "    </tr>\n",
       "    <tr>\n",
       "      <th>25</th>\n",
       "      <td>https://www.notateslaapp.com/software-updates/...</td>\n",
       "      <td>Not a Tesla App</td>\n",
       "    </tr>\n",
       "    <tr>\n",
       "      <th>29</th>\n",
       "      <td>https://www.techspot.com/news/93223-nhtsa-issu...</td>\n",
       "      <td>TechSpot</td>\n",
       "    </tr>\n",
       "    <tr>\n",
       "      <th>30</th>\n",
       "      <td>https://www.rollingstone.com/music/music-news/...</td>\n",
       "      <td>Rolling Stone</td>\n",
       "    </tr>\n",
       "  </tbody>\n",
       "</table>\n",
       "<p>68 rows × 2 columns</p>\n",
       "</div>"
      ],
      "text/plain": [
       "                                                 link           source\n",
       "0   https://www.teslarati.com/elon-musk-tesla-fsd-...        Teslarati\n",
       "1   https://teslanorth.com/2024/01/23/tesla-fsd-be...      Tesla North\n",
       "2        https://www.bbc.com/news/technology-59939536              BBC\n",
       "3   https://www.theverge.com/2022/1/9/22875382/tes...        The Verge\n",
       "4   https://www.teslarati.com/tesla-automatic-set-...        Teslarati\n",
       "..                                                ...              ...\n",
       "21  https://www.thedrive.com/news/44104/tesla-reca...        The Drive\n",
       "22  https://www.kbb.com/car-news/tesla-ups-price-o...              KBB\n",
       "25  https://www.notateslaapp.com/software-updates/...  Not a Tesla App\n",
       "29  https://www.techspot.com/news/93223-nhtsa-issu...         TechSpot\n",
       "30  https://www.rollingstone.com/music/music-news/...    Rolling Stone\n",
       "\n",
       "[68 rows x 2 columns]"
      ]
     },
     "execution_count": 67,
     "metadata": {},
     "output_type": "execute_result"
    }
   ],
   "source": [
    "df.drop_duplicates()"
   ]
  },
  {
   "cell_type": "code",
   "execution_count": null,
   "metadata": {},
   "outputs": [],
   "source": []
  }
 ],
 "metadata": {
  "kernelspec": {
   "display_name": "Python 3",
   "language": "python",
   "name": "python3"
  },
  "language_info": {
   "codemirror_mode": {
    "name": "ipython",
    "version": 3
   },
   "file_extension": ".py",
   "mimetype": "text/x-python",
   "name": "python",
   "nbconvert_exporter": "python",
   "pygments_lexer": "ipython3",
   "version": "3.9.6"
  }
 },
 "nbformat": 4,
 "nbformat_minor": 2
}
